{
 "cells": [
  {
   "cell_type": "code",
   "execution_count": 157,
   "metadata": {},
   "outputs": [
    {
     "name": "stdout",
     "output_type": "stream",
     "text": [
      "PART 1:  113525\n",
      "Cycle length:  84\n",
      "PART 2:  101292\n"
     ]
    }
   ],
   "source": [
    "\n",
    "import numpy as np\n",
    "\n",
    "file1 = open('14_input', 'r')\n",
    "Lines = file1.readlines()\n",
    "suma=0\n",
    "for i in range(len(Lines)):\n",
    "    Lines[i]=Lines[i].strip()\n",
    "\n",
    "#Switch to numpy for convenience\n",
    "np_lines=np.zeros((len(Lines),len(Lines[0])),dtype=int)\n",
    "for i in range(len(Lines)):\n",
    "    for j in range(len(Lines[i])):\n",
    "        if(Lines[i][j]=='#'): np_lines[i][j]=1\n",
    "        if(Lines[i][j]=='O'): np_lines[i][j]=2\n",
    "\n",
    "print(\"PART 1: \",compute_score(drop(np_lines)))\n",
    "#do 100 rotation to reach cycle\n",
    "for i in range (100):\n",
    "    np_lines=do_rotation(np_lines)\n",
    "\n",
    "#save the states in the next 100 rotations\n",
    "previous= [None] * 100\n",
    "for i in range (100):\n",
    "    do_rotation(np_lines)\n",
    "    previous[i]=np_lines.copy()\n",
    "\n",
    "#assuming the cycle length is less than 100, find the length of cycle by going over the saved previous 100 states\n",
    "np_lines=do_rotation(np_lines)\n",
    "for k in range (99,-1,-1):\n",
    "    if(np.array_equal(np_lines,previous[k])):\n",
    "        cycle_len=100-k\n",
    "        break\n",
    "print(\"Cycle length: \",cycle_len)\n",
    "#using the cycle you have saved, find the state at 1000000000\n",
    "\n",
    "k=(1000000000-101)%cycle_len\n",
    "state=previous[k]\n",
    "\n",
    "print(\"PART 2: \", compute_score(state))"
   ]
  },
  {
   "cell_type": "code",
   "execution_count": 156,
   "metadata": {},
   "outputs": [],
   "source": [
    "def compute_score(state):\n",
    "    score=0\n",
    "    for i in range(state.shape[0]):\n",
    "        for j in range(state.shape[1]):\n",
    "            if(state[i][j]==2):\n",
    "                score+=state.shape[0]-i\n",
    "    return score\n",
    "def drop(np_lines):\n",
    "    for j in range(np_lines.shape[1]):\n",
    "        position=0\n",
    "        for i in range(np_lines.shape[0]):\n",
    "            if(np_lines[i][j]==1):\n",
    "                position=i+1\n",
    "            if(np_lines[i][j]==2):\n",
    "                np_lines[i][j]=0\n",
    "                np_lines[position][j]=2\n",
    "                position+=1\n",
    "    return np_lines\n",
    "\n",
    "def do_rotation(np_lines):\n",
    "    for _ in range (4):\n",
    "        np_lines=drop(np_lines)\n",
    "        np_lines=np.rot90(np_lines,-1)\n",
    "    return np_lines\n"
   ]
  },
  {
   "cell_type": "code",
   "execution_count": null,
   "metadata": {},
   "outputs": [],
   "source": []
  }
 ],
 "metadata": {
  "kernelspec": {
   "display_name": "test-pac-V6IWFQIH-py3.10",
   "language": "python",
   "name": "python3"
  },
  "language_info": {
   "codemirror_mode": {
    "name": "ipython",
    "version": 3
   },
   "file_extension": ".py",
   "mimetype": "text/x-python",
   "name": "python",
   "nbconvert_exporter": "python",
   "pygments_lexer": "ipython3",
   "version": "3.10.8"
  }
 },
 "nbformat": 4,
 "nbformat_minor": 2
}
