{
 "cells": [
  {
   "cell_type": "code",
   "execution_count": 33,
   "metadata": {},
   "outputs": [
    {
     "data": {
      "text/plain": [
       "884"
      ]
     },
     "execution_count": 33,
     "metadata": {},
     "output_type": "execute_result"
    }
   ],
   "source": [
    "import re\n",
    "import numpy as np\n",
    "file1 = open('9_input', 'r')\n",
    "\n",
    "Lines = file1.readlines()\n",
    "\n",
    "sum=0\n",
    "prev_sum=0\n",
    "for i in range(len(Lines)):\n",
    "\n",
    "    row=np.array(Lines[i].strip().split(' '))\n",
    "    numbers=np.zeros(shape=(len(row),len(row)),dtype=int)\n",
    "    numbers[0,:]=row\n",
    "    j=0\n",
    "    while((numbers[j,:].sum()>0) | (numbers[j,:].std()>0)):\n",
    "        numbers[j+1,0:-(j+1)]=np.roll(numbers[j,:],-1,0)[0:-(j+1)]-numbers[j,0:-(j+1)]\n",
    "        j+=1\n",
    "    j-=1\n",
    "    next_in_line=0\n",
    "    previous=0\n",
    "    #print(numbers[0:j+2,:])\n",
    "    while(j!=-1):\n",
    "        next_in_line=next_in_line+numbers[j,numbers.shape[0]-j-1]\n",
    "        previous=numbers[j][0]-previous\n",
    "        j-=1\n",
    "    #print(next_in_line)\n",
    "   \n",
    "    #print(previous)\n",
    "    sum+=next_in_line\n",
    "    prev_sum+=previous\n",
    "sum\n",
    "prev_sum"
   ]
  },
  {
   "cell_type": "code",
   "execution_count": null,
   "metadata": {},
   "outputs": [],
   "source": [
    "0\n",
    "1 1\n",
    "2 3 4"
   ]
  }
 ],
 "metadata": {
  "kernelspec": {
   "display_name": "hypothesis-testing-Ccqgsuvy-py3.10",
   "language": "python",
   "name": "python3"
  },
  "language_info": {
   "codemirror_mode": {
    "name": "ipython",
    "version": 3
   },
   "file_extension": ".py",
   "mimetype": "text/x-python",
   "name": "python",
   "nbconvert_exporter": "python",
   "pygments_lexer": "ipython3",
   "version": "3.10.8"
  }
 },
 "nbformat": 4,
 "nbformat_minor": 2
}
