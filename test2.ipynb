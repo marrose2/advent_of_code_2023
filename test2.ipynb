{
 "cells": [
  {
   "cell_type": "code",
   "execution_count": 23,
   "metadata": {},
   "outputs": [
    {
     "data": {
      "text/plain": [
       "66909"
      ]
     },
     "execution_count": 23,
     "metadata": {},
     "output_type": "execute_result"
    }
   ],
   "source": [
    "import re\n",
    "file1 = open('2_input', 'r')\n",
    "Lines = file1.readlines()\n",
    "i=1\n",
    "sol=0\n",
    "my_dict={\"red\": 12,\"green\": 13, \"blue\":14}\n",
    "for line in Lines:\n",
    "\n",
    "    line2=line.strip()\n",
    "    splt=line2.split(sep=\":\")\n",
    "    check=True\n",
    "    max_dict={\"red\": 0,\"green\": 0, \"blue\":0}\n",
    "    for l in splt[1].split(sep=\";\"):\n",
    "        \n",
    "        for j in l.split(sep=\", \"):\n",
    "            k=j.strip().split(\" \")\n",
    "            if (int(k[0])>max_dict[k[1]]):\n",
    "                max_dict[k[1]]=int(k[0])\n",
    "    sol+=max_dict[\"red\"]*max_dict[\"green\"]*max_dict[\"blue\"]\n",
    "    i+=1\n",
    "sol"
   ]
  },
  {
   "cell_type": "code",
   "execution_count": null,
   "metadata": {},
   "outputs": [],
   "source": []
  }
 ],
 "metadata": {
  "kernelspec": {
   "display_name": "hypothesis-testing-Ccqgsuvy-py3.10",
   "language": "python",
   "name": "python3"
  },
  "language_info": {
   "codemirror_mode": {
    "name": "ipython",
    "version": 3
   },
   "file_extension": ".py",
   "mimetype": "text/x-python",
   "name": "python",
   "nbconvert_exporter": "python",
   "pygments_lexer": "ipython3",
   "version": "3.10.8"
  }
 },
 "nbformat": 4,
 "nbformat_minor": 2
}
