{
 "cells": [
  {
   "cell_type": "code",
   "execution_count": 72,
   "metadata": {},
   "outputs": [],
   "source": [
    "import aocd\n",
    "data=aocd.get_data()\n",
    "data=data.split(\"\\n\")"
   ]
  },
  {
   "cell_type": "code",
   "execution_count": 73,
   "metadata": {},
   "outputs": [
    {
     "name": "stdout",
     "output_type": "stream",
     "text": [
      "part 1 solution: 666795063\n"
     ]
    }
   ],
   "source": [
    "from collections import deque\n",
    "nodes={}\n",
    "for datum in data:\n",
    "    node,targets=datum.split(\" -> \")\n",
    "    if node!=\"broadcaster\":\n",
    "        node_type,node=node[0],node[1:]\n",
    "    else:\n",
    "        node_type=\"b\"\n",
    "    targets=targets.split(\", \")\n",
    "    if node_type==\"&\":\n",
    "        memory={}\n",
    "    else:\n",
    "        memory=1\n",
    "    nodes[node]=[node_type,targets,memory]\n",
    "\n",
    "for node in nodes:\n",
    "    node_type,targets,memory=nodes[node]\n",
    "    for target in targets:\n",
    "        if target in nodes:\n",
    "            if nodes[target][0]==\"&\":   \n",
    "                nodes[target][2][node]=0\n",
    "\n",
    "\n",
    "signal_count={0:0,1:0}\n",
    "hit_times={\"xl\":[],\"ln\":[],\"xp\":[],\"gp\":[]}\n",
    "for i in range(100000):\n",
    "    queue=deque()\n",
    "    queue.append((\"broadcaster\",0,\"\"))\n",
    "    while queue:\n",
    "        node,signal,prev=queue.popleft()\n",
    "        if (node==\"rx\" and signal==0):\n",
    "            break\n",
    "        signal_count[signal]+=1\n",
    "        if node not in nodes:\n",
    "            continue\n",
    "        node_type,targets,memory=nodes[node]\n",
    "        if (node_type==\"%\"):\n",
    "            if signal==1:\n",
    "                continue\n",
    "            else:\n",
    "                signal= int (memory)\n",
    "                nodes[node][2]=int (not (memory))\n",
    "        elif (node_type==\"&\"):\n",
    "            low_flag=False\n",
    "            nodes[node][2][prev]=signal\n",
    "            memory=nodes[node][2]\n",
    "            for key in memory:\n",
    "                if memory[key]==0:\n",
    "                    low_flag=True\n",
    "            if low_flag:\n",
    "                signal=1\n",
    "            else:\n",
    "                signal=0\n",
    "        if (signal==1) and (node in [\"xl\",\"ln\", \"xp\", \"gp\"]):\n",
    "            hit_times[node].append(i)\n",
    "        for target in targets:\n",
    "            queue.append((target,signal,node))\n",
    "    if (i==999):\n",
    "        print(\"part 1 solution:\",signal_count[0]*signal_count[1])\n"
   ]
  },
  {
   "cell_type": "code",
   "execution_count": 74,
   "metadata": {},
   "outputs": [
    {
     "name": "stdout",
     "output_type": "stream",
     "text": [
      "xl 4050 4051 4051 4051 4051 4051 4051 4051 4051 4051 4051 4051 4051 4051 4051 4051 4051 4051 4051 4051 4051 4051 4051 4051 \n",
      "ln 4020 4021 4021 4021 4021 4021 4021 4021 4021 4021 4021 4021 4021 4021 4021 4021 4021 4021 4021 4021 4021 4021 4021 4021 \n",
      "xp 4056 4057 4057 4057 4057 4057 4057 4057 4057 4057 4057 4057 4057 4057 4057 4057 4057 4057 4057 4057 4057 4057 4057 4057 \n",
      "gp 3832 3833 3833 3833 3833 3833 3833 3833 3833 3833 3833 3833 3833 3833 3833 3833 3833 3833 3833 3833 3833 3833 3833 3833 3833 3833 \n"
     ]
    }
   ],
   "source": [
    "for key in hit_times:\n",
    "    print (key,hit_times[key][0],end=\" \")\n",
    "    for i in range(len(hit_times[key])-1):\n",
    "        print(hit_times[key][i+1]-hit_times[key][i],end=\" \")\n",
    "    print()\n",
    "    "
   ]
  },
  {
   "cell_type": "code",
   "execution_count": 75,
   "metadata": {},
   "outputs": [
    {
     "data": {
      "text/plain": [
       "253302889093151"
      ]
     },
     "execution_count": 75,
     "metadata": {},
     "output_type": "execute_result"
    }
   ],
   "source": [
    "from math import lcm\n",
    "\n",
    "lcm(4051,4021,4057,3833)"
   ]
  }
 ],
 "metadata": {
  "kernelspec": {
   "display_name": "advent-of-code-2023-S7DCybZP-py3.10",
   "language": "python",
   "name": "python3"
  },
  "language_info": {
   "codemirror_mode": {
    "name": "ipython",
    "version": 3
   },
   "file_extension": ".py",
   "mimetype": "text/x-python",
   "name": "python",
   "nbconvert_exporter": "python",
   "pygments_lexer": "ipython3",
   "version": "3.10.8"
  }
 },
 "nbformat": 4,
 "nbformat_minor": 2
}
