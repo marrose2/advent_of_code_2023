{
 "cells": [
  {
   "cell_type": "code",
   "execution_count": 30,
   "metadata": {},
   "outputs": [
    {
     "data": {
      "text/plain": [
       "['%rq -> ch, sj',\n",
       " '%nf -> sm, rg',\n",
       " '%pc -> rz, zp',\n",
       " '%xt -> bc',\n",
       " '%nt -> kq, sj',\n",
       " '%hc -> kb, zp',\n",
       " '%rd -> lk',\n",
       " '%ml -> pp, xt',\n",
       " '%sq -> kl, sj',\n",
       " '%jg -> fl, rg',\n",
       " '&xl -> df',\n",
       " '%kl -> mb, sj',\n",
       " '%nd -> rg, jg',\n",
       " '&rg -> cs, zb, cp, vz, gp',\n",
       " '%mf -> zp',\n",
       " '%rz -> zp, fr',\n",
       " '%kk -> rg, bj',\n",
       " '%nb -> qj',\n",
       " '%pr -> pp',\n",
       " '&zp -> vl, lk, rd, kb, xl',\n",
       " '%fl -> nf, rg',\n",
       " '%tb -> pk, pp',\n",
       " '%bh -> pp, pr',\n",
       " '%nh -> sj, rq',\n",
       " '%lk -> hc',\n",
       " '%cp -> kk',\n",
       " '&ln -> df',\n",
       " '&xp -> df',\n",
       " '%bc -> nb, pp',\n",
       " '%lj -> rg',\n",
       " '%vz -> nd',\n",
       " '%vl -> lv, zp',\n",
       " '&gp -> df',\n",
       " '%hd -> pp, bq',\n",
       " '%fq -> pp, bh',\n",
       " '%pk -> fq, pp',\n",
       " '%cs -> zb, rg',\n",
       " '%sn -> fd',\n",
       " '%kq -> sj, qq',\n",
       " '%zb -> vz',\n",
       " '%lv -> zp, rd',\n",
       " '%qj -> pp, hd',\n",
       " '%fd -> nt',\n",
       " '&df -> rx',\n",
       " 'broadcaster -> vl, cs, cn, ml',\n",
       " '%bq -> tb',\n",
       " '%kb -> pc',\n",
       " '%cn -> sn, sj',\n",
       " '%qq -> sq',\n",
       " '%mb -> sj, nh',\n",
       " '%jd -> zp, mf',\n",
       " '&sj -> xp, qq, cn, fd, sn',\n",
       " '&pp -> ln, ml, xt, bq, nb',\n",
       " '%sm -> rg, cp',\n",
       " '%ch -> sj',\n",
       " '%bj -> lj, rg',\n",
       " '%fr -> zp, mr',\n",
       " '%mr -> zp, jd']"
      ]
     },
     "execution_count": 30,
     "metadata": {},
     "output_type": "execute_result"
    }
   ],
   "source": [
    "import aocd\n",
    "data=aocd.get_data()\n",
    "data=data.split(\"\\n\")\n",
    "data"
   ]
  },
  {
   "cell_type": "code",
   "execution_count": 27,
   "metadata": {},
   "outputs": [
    {
     "data": {
      "text/plain": [
       "['broadcaster -> a, b, c', '%a -> b', '%b -> c', '%c -> inv', '&inv -> a']"
      ]
     },
     "execution_count": 27,
     "metadata": {},
     "output_type": "execute_result"
    }
   ],
   "source": [
    "file1 = open('test_input', 'r')\n",
    "data = file1.readlines()\n",
    "for i in range(len(data)):\n",
    "    data[i]=data[i].strip()\n",
    "data"
   ]
  },
  {
   "cell_type": "code",
   "execution_count": 64,
   "metadata": {},
   "outputs": [
    {
     "name": "stdout",
     "output_type": "stream",
     "text": [
      "part 1 solution: 666834146\n",
      "part 1 solution: 666873229\n",
      "part 1 solution: 666912312\n",
      "part 1 solution: 666951395\n",
      "part 1 solution: 666990478\n",
      "part 1 solution: 667024610\n",
      "part 1 solution: 667058742\n",
      "part 1 solution: 667092874\n",
      "part 1 solution: 667109940\n",
      "part 1 solution: 667212336\n",
      "part 1 solution: 667297666\n",
      "part 1 solution: 667314732\n",
      "part 1 solution: 667400062\n",
      "part 1 solution: 667507437\n",
      "part 1 solution: 667546548\n",
      "part 1 solution: 667585659\n",
      "part 1 solution: 667624770\n"
     ]
    }
   ],
   "source": [
    "from collections import deque\n",
    "nodes={}\n",
    "for datum in data:\n",
    "    node,targets=datum.split(\" -> \")\n",
    "    if node!=\"broadcaster\":\n",
    "        node_type,node=node[0],node[1:]\n",
    "    else:\n",
    "        node_type=\"b\"\n",
    "    targets=targets.split(\", \")\n",
    "    if node_type==\"&\":\n",
    "        memory={}\n",
    "    else:\n",
    "        memory=1\n",
    "    nodes[node]=[node_type,targets,memory]\n",
    "for node in nodes:\n",
    "    node_type,targets,memory=nodes[node]\n",
    "    for target in targets:\n",
    "        if target in nodes:\n",
    "            if nodes[target][0]==\"&\":   \n",
    "                nodes[target][2][node]=0\n",
    "\n",
    "\n",
    "signal_count={0:0,1:0}\n",
    "hit_times={\"xl\":[],\"ln\":[],\"xp\":[],\"gp\":[]}\n",
    "for i in range(100000):\n",
    "    queue=deque()\n",
    "    queue.append((\"broadcaster\",0,\"\"))\n",
    "    while queue:\n",
    "        node,signal,prev=queue.popleft()\n",
    "        if (node==\"rx\" and signal==0):\n",
    "            break\n",
    "        signal_count[signal]+=1\n",
    "        if node not in nodes:\n",
    "            continue\n",
    "        node_type,targets,memory=nodes[node]\n",
    "        if (node_type==\"%\"):\n",
    "            if signal==1:\n",
    "                continue\n",
    "            else:\n",
    "                signal= int (memory)\n",
    "                nodes[node][2]=int (not (memory))\n",
    "        elif (node_type==\"&\"):\n",
    "            low_flag=False\n",
    "            nodes[node][2][prev]=signal\n",
    "            memory=nodes[node][2]\n",
    "            for key in memory:\n",
    "                if memory[key]==0:\n",
    "                    low_flag=True\n",
    "            if low_flag:\n",
    "                signal=1\n",
    "            else:\n",
    "                signal=0\n",
    "        if (signal==1) and (node in [\"xl\",\"ln\", \"xp\", \"gp\"]):\n",
    "            hit_times[node].append(i)\n",
    "        for target in targets:\n",
    "            queue.append((target,signal,node))\n",
    "    if (i==1000):\n",
    "        print(\"part 1 solution:\",signal_count[0]*signal_count[1])\n"
   ]
  },
  {
   "cell_type": "code",
   "execution_count": 59,
   "metadata": {},
   "outputs": [
    {
     "name": "stdout",
     "output_type": "stream",
     "text": [
      "xl 4050 4051 4051 4051 4051 4051 4051 4051 4051 4051 4051 4051 4051 4051 4051 4051 4051 4051 4051 4051 4051 4051 4051 4051 \n",
      "ln 4020 4021 4021 4021 4021 4021 4021 4021 4021 4021 4021 4021 4021 4021 4021 4021 4021 4021 4021 4021 4021 4021 4021 4021 \n",
      "xp 4056 4057 4057 4057 4057 4057 4057 4057 4057 4057 4057 4057 4057 4057 4057 4057 4057 4057 4057 4057 4057 4057 4057 4057 \n",
      "gp 3832 3833 3833 3833 3833 3833 3833 3833 3833 3833 3833 3833 3833 3833 3833 3833 3833 3833 3833 3833 3833 3833 3833 3833 3833 3833 \n"
     ]
    }
   ],
   "source": [
    "for key in hit_times:\n",
    "    print (key,hit_times[key][0],end=\" \")\n",
    "    for i in range(len(hit_times[key])-1):\n",
    "        print(hit_times[key][i+1]-hit_times[key][i],end=\" \")\n",
    "    print()\n",
    "    "
   ]
  },
  {
   "cell_type": "code",
   "execution_count": 63,
   "metadata": {},
   "outputs": [
    {
     "data": {
      "text/plain": [
       "253302889093151"
      ]
     },
     "execution_count": 63,
     "metadata": {},
     "output_type": "execute_result"
    }
   ],
   "source": [
    "from math import lcm\n",
    "\n",
    "lcm(4051,4021,4057,3833)"
   ]
  },
  {
   "cell_type": "code",
   "execution_count": null,
   "metadata": {},
   "outputs": [],
   "source": []
  }
 ],
 "metadata": {
  "kernelspec": {
   "display_name": "advent-of-code-2023-S7DCybZP-py3.10",
   "language": "python",
   "name": "python3"
  },
  "language_info": {
   "codemirror_mode": {
    "name": "ipython",
    "version": 3
   },
   "file_extension": ".py",
   "mimetype": "text/x-python",
   "name": "python",
   "nbconvert_exporter": "python",
   "pygments_lexer": "ipython3",
   "version": "3.10.8"
  }
 },
 "nbformat": 4,
 "nbformat_minor": 2
}
