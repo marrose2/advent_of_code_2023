{
 "cells": [
  {
   "cell_type": "code",
   "execution_count": 72,
   "metadata": {},
   "outputs": [],
   "source": [
    "import aocd\n",
    "data=aocd.get_data()\n",
    "data=data.split(\"\\n\")"
   ]
  },
  {
   "cell_type": "code",
   "execution_count": 81,
   "metadata": {},
   "outputs": [
    {
     "name": "stdout",
     "output_type": "stream",
     "text": [
      "part 1 solution: 666795063\n"
     ]
    }
   ],
   "source": [
    "from collections import deque\n",
    "nodes={}\n",
    "\n",
    "class Node:\n",
    "    def __init__(self,tag,type,targets,memory):\n",
    "        self.tag=tag\n",
    "        self.type=type\n",
    "        self.targets=targets\n",
    "        self.memory=memory\n",
    "\n",
    "for datum in data:\n",
    "    node_tag,targets=datum.split(\" -> \")\n",
    "    if node_tag!=\"broadcaster\":\n",
    "        type,node_tag=node_tag[0],node_tag[1:]\n",
    "    else:\n",
    "        type=\"b\"\n",
    "    targets=targets.split(\", \")\n",
    "    if type==\"&\":\n",
    "        memory={}\n",
    "    else:\n",
    "        memory=1\n",
    "    node=Node(node_tag,type,targets,memory)\n",
    "    nodes[node_tag]=node\n",
    "    \n",
    "for node_tag in nodes:\n",
    "    node=nodes[node_tag]\n",
    "    for target in node.targets:\n",
    "        if target in nodes:\n",
    "            if nodes[target].type==\"&\":   \n",
    "                nodes[target].memory[node_tag]=0\n",
    "\n",
    "\n",
    "signal_count={0:0,1:0}\n",
    "hit_times={\"xl\":[],\"ln\":[],\"xp\":[],\"gp\":[]}\n",
    "for i in range(100000):\n",
    "    queue=deque()\n",
    "    queue.append((\"broadcaster\",0,\"\"))\n",
    "    while queue:\n",
    "        node_tag,signal,prev=queue.popleft()\n",
    "        if (node_tag==\"rx\" and signal==0):\n",
    "            break\n",
    "        signal_count[signal]+=1\n",
    "        if node_tag not in nodes:\n",
    "            continue\n",
    "        node=nodes[node_tag]\n",
    "        if (node.type==\"%\"):\n",
    "            if signal==1:\n",
    "                continue\n",
    "            else:\n",
    "                signal= int (node.memory)\n",
    "                nodes[node_tag].memory=int (not (node.memory))\n",
    "        elif (node.type==\"&\"):\n",
    "            low_flag=False\n",
    "            nodes[node_tag].memory[prev]=signal\n",
    "            memory=nodes[node_tag].memory\n",
    "            for key in node.memory:\n",
    "                if node.memory[key]==0:\n",
    "                    low_flag=True\n",
    "            if low_flag:\n",
    "                signal=1\n",
    "            else:\n",
    "                signal=0\n",
    "        if (signal==1) and (node_tag in [\"xl\",\"ln\", \"xp\", \"gp\"]):\n",
    "            hit_times[node_tag].append(i)\n",
    "        for target in node.targets:\n",
    "            queue.append((target,signal,node_tag))\n",
    "    if (i==999):\n",
    "        print(\"part 1 solution:\",signal_count[0]*signal_count[1])\n"
   ]
  },
  {
   "cell_type": "code",
   "execution_count": 82,
   "metadata": {},
   "outputs": [
    {
     "name": "stdout",
     "output_type": "stream",
     "text": [
      "xl 4050 4051 4051 4051 4051 4051 4051 4051 4051 4051 4051 4051 4051 4051 4051 4051 4051 4051 4051 4051 4051 4051 4051 4051 \n",
      "ln 4020 4021 4021 4021 4021 4021 4021 4021 4021 4021 4021 4021 4021 4021 4021 4021 4021 4021 4021 4021 4021 4021 4021 4021 \n",
      "xp 4056 4057 4057 4057 4057 4057 4057 4057 4057 4057 4057 4057 4057 4057 4057 4057 4057 4057 4057 4057 4057 4057 4057 4057 \n",
      "gp 3832 3833 3833 3833 3833 3833 3833 3833 3833 3833 3833 3833 3833 3833 3833 3833 3833 3833 3833 3833 3833 3833 3833 3833 3833 3833 \n"
     ]
    }
   ],
   "source": [
    "for key in hit_times:\n",
    "    print (key,hit_times[key][0],end=\" \")\n",
    "    for i in range(len(hit_times[key])-1):\n",
    "        print(hit_times[key][i+1]-hit_times[key][i],end=\" \")\n",
    "    print()\n",
    "    "
   ]
  },
  {
   "cell_type": "code",
   "execution_count": 83,
   "metadata": {},
   "outputs": [
    {
     "data": {
      "text/plain": [
       "253302889093151"
      ]
     },
     "execution_count": 83,
     "metadata": {},
     "output_type": "execute_result"
    }
   ],
   "source": [
    "from math import lcm\n",
    "\n",
    "lcm(4051,4021,4057,3833)"
   ]
  }
 ],
 "metadata": {
  "kernelspec": {
   "display_name": "advent-of-code-2023-S7DCybZP-py3.10",
   "language": "python",
   "name": "python3"
  },
  "language_info": {
   "codemirror_mode": {
    "name": "ipython",
    "version": 3
   },
   "file_extension": ".py",
   "mimetype": "text/x-python",
   "name": "python",
   "nbconvert_exporter": "python",
   "pygments_lexer": "ipython3",
   "version": "3.10.8"
  }
 },
 "nbformat": 4,
 "nbformat_minor": 2
}
