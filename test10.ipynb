{
 "cells": [
  {
   "cell_type": "code",
   "execution_count": 237,
   "metadata": {},
   "outputs": [],
   "source": [
    "out_in={} \n",
    "out_in[('|',1)]=([\"W\"],[\"E\"])\n",
    "out_in[('-',1)]=([\"N\"],[\"S\"])\n",
    "out_in[('L',1)]=([\"W\",\"S\"],[])\n",
    "out_in[('J',1)]=([\"E\",\"S\"],[])\n",
    "out_in[('7',1)]=([\"N\",\"E\"],[])\n",
    "out_in[('F',1)]=([\"N\",\"W\"],[])\n",
    "\n",
    "standard_side={}\n",
    "standard_side[\"|\"]=\"N\"\n",
    "standard_side[\"-\"]=\"E\"\n",
    "standard_side[\"L\"]=\"N\"\n",
    "standard_side[\"J\"]=\"W\"\n",
    "standard_side[\"7\"]=\"S\"\n",
    "standard_side[\"F\"]=\"E\"\n",
    "\n",
    "temp={}\n",
    "for key,value in out_in.items():\n",
    "   temp[(key[0],-1)]=(value[1],value[0])\n",
    "out_in.update(temp)"
   ]
  },
  {
   "cell_type": "code",
   "execution_count": 239,
   "metadata": {},
   "outputs": [
    {
     "name": "stdout",
     "output_type": "stream",
     "text": [
      "6956.0\n",
      "6956.0\n"
     ]
    }
   ],
   "source": [
    "\n",
    "import numpy as np\n",
    "file1 = open('10_input', 'r')\n",
    "mapa={}\n",
    "Lines = file1.readlines()\n",
    "for i in range(len(Lines)):\n",
    "    Lines[i]=Lines[i].strip()\n",
    "    for j in range(len(Lines[i])):\n",
    "        mapa[(i,j)]=Lines[i][j]\n",
    "        if mapa[(i,j)]=='S':\n",
    "            start=(i,j)\n",
    "old=start\n",
    "for dir in [\"N\",\"S\",\"E\",\"W\"]:\n",
    "    if next_direction(start,dir)!=-1:\n",
    "        step_count=0\n",
    "        while True:\n",
    "            if (next_direction(start,dir)==-2):\n",
    "                print((step_count+1)/2)\n",
    "                break\n",
    "            else:\n",
    "                start,dir=next_direction(start,dir)\n",
    "                step_count+=1\n",
    "        start=old"
   ]
  },
  {
   "cell_type": "code",
   "execution_count": 240,
   "metadata": {},
   "outputs": [
    {
     "name": "stdout",
     "output_type": "stream",
     "text": [
      "6956.0\n",
      "6956.0\n"
     ]
    },
    {
     "data": {
      "text/plain": [
       "455"
      ]
     },
     "execution_count": 240,
     "metadata": {},
     "output_type": "execute_result"
    }
   ],
   "source": [
    "\n",
    "import numpy as np\n",
    "file1 = open('10_input', 'r')\n",
    "mapa={}\n",
    "Lines = file1.readlines()\n",
    "for i in range(len(Lines)):\n",
    "    Lines[i]=Lines[i].strip()\n",
    "    for j in range(len(Lines[i])):\n",
    "        mapa[(i,j)]=Lines[i][j]\n",
    "        if mapa[(i,j)]=='S':\n",
    "            start=(i,j)\n",
    "    Lines[i]=list(Lines[i])\n",
    "old=start\n",
    "for dir in [\"N\",\"S\",\"E\",\"W\"]:\n",
    "    if next_direction(start,dir)!=-1:\n",
    "        step_count=0\n",
    "        start_dir=dir\n",
    "        while True:\n",
    "            Lines[start[0]][start[1]]=\"#\"\n",
    "            if (next_direction(start,dir)==-2):\n",
    "                print((step_count+1)/2)\n",
    "                end_dir=dir\n",
    "                break\n",
    "            else:\n",
    "                start,dir=next_direction(start,dir,-1)\n",
    "                step_count+=1\n",
    "        start=old\n",
    "\n",
    "visited=[]\n",
    "for i in range(len(Lines)):\n",
    "    for j in range(len(Lines[i])):\n",
    "        if ((Lines[i][j]==\"O\") or (Lines[i][j]==\"I\")):\n",
    "            queue=[]\n",
    "            dfs(i,j,Lines[i][j])\n",
    "\n",
    "cnt=0\n",
    "for i in range(len(Lines)):\n",
    "    for j in range(len(Lines[i])):\n",
    "        if (Lines[i][j]==\"I\"):\n",
    "            cnt+=1\n",
    "cnt"
   ]
  },
  {
   "cell_type": "code",
   "execution_count": 230,
   "metadata": {},
   "outputs": [],
   "source": [
    "def dfs(i,j,sig):\n",
    "    if (i<0 or j<0 or i>=len(Lines) or j>=len(Lines[i])):\n",
    "        return\n",
    "    if (i,j) in visited:\n",
    "        return\n",
    "    if Lines[i][j]==\"#\":\n",
    "        return\n",
    "    Lines[i][j]=sig\n",
    "    visited.append((i,j))\n",
    "    dfs(i+1,j,sig)\n",
    "    dfs(i-1,j,sig)\n",
    "    dfs(i,j+1,sig)\n",
    "    dfs(i,j-1,sig)\n",
    "        "
   ]
  },
  {
   "cell_type": "code",
   "execution_count": 213,
   "metadata": {},
   "outputs": [],
   "source": [
    "def mark(position,side,mark):\n",
    "    x=position[0]\n",
    "    y=position[1]\n",
    "\n",
    "    if side==\"N\":\n",
    "        x-=1\n",
    "    if side==\"S\":\n",
    "        x+=1\n",
    "    if side==\"E\":\n",
    "        y+=1\n",
    "    if side==\"W\":\n",
    "        y-=1\n",
    "    if not((x<0) or (y<0) or (x>=len(Lines)) or (y>=len(Lines[0]))):\n",
    "        if (Lines[x][y]!='#'):\n",
    "            Lines[x][y]=mark\n",
    "\n",
    "def next_direction(position,direction,orientation=0):\n",
    "    rules={}\n",
    "    rules['|']=['N','S']\n",
    "    rules['-']=['E','W']\n",
    "    rules['L']=['N','E']\n",
    "    rules['J']=['N','W']\n",
    "    rules['7']=['S','W']\n",
    "    rules['F']=['S','E']\n",
    "\n",
    "    opposite={}\n",
    "    opposite['N']='S'\n",
    "    opposite['S']='N'\n",
    "    opposite['E']='W'\n",
    "    opposite['W']='E'\n",
    "\n",
    "    temp_orientation=orientation    \n",
    "\n",
    "    if(orientation!=0):\n",
    "        if (mapa[position] in standard_side.keys()):\n",
    "            if direction!=standard_side[mapa[position]]:\n",
    "                temp_orientation*=-1\n",
    "            #print(mapa[position],direction,temp_orientation)\n",
    "            outs=out_in[(mapa[position],temp_orientation)][0]\n",
    "            ins=out_in[(mapa[position],temp_orientation)][1]\n",
    "            for side in outs:\n",
    "                mark(position,side,\"O\")\n",
    "            for side in ins:\n",
    "                mark(position,side,\"I\")\n",
    "    \n",
    "\n",
    "    if (direction==\"N\"):\n",
    "        position=(position[0]-1,position[1])\n",
    "    if (direction==\"S\"):\n",
    "        position=(position[0]+1,position[1])\n",
    "    if (direction==\"E\"):\n",
    "        position=(position[0],position[1]+1)\n",
    "    if (direction==\"W\"):\n",
    "        position=(position[0],position[1]-1)\n",
    "    if ((position[0]<0) or (position[1]<0) or (position[0]==len(Lines)) or (position[1]==len(Lines[0]))):\n",
    "        return -1\n",
    "    if mapa[position]=='.':\n",
    "        return -1\n",
    "    if mapa[position]=='S':\n",
    "        return -2\n",
    "    opp_dir=opposite[direction]\n",
    "    if (opp_dir not in rules[mapa[position]]):\n",
    "        return -1 \n",
    "    rules[mapa[position]].remove(opp_dir)\n",
    "    new_dir=rules[mapa[position]][0]\n",
    "    return position,new_dir"
   ]
  }
 ],
 "metadata": {
  "kernelspec": {
   "display_name": "test-pac-V6IWFQIH-py3.10",
   "language": "python",
   "name": "python3"
  },
  "language_info": {
   "codemirror_mode": {
    "name": "ipython",
    "version": 3
   },
   "file_extension": ".py",
   "mimetype": "text/x-python",
   "name": "python",
   "nbconvert_exporter": "python",
   "pygments_lexer": "ipython3",
   "version": "3.10.8"
  }
 },
 "nbformat": 4,
 "nbformat_minor": 2
}
