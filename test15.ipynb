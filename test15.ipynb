{
 "cells": [
  {
   "cell_type": "code",
   "execution_count": 62,
   "metadata": {},
   "outputs": [
    {
     "name": "stdout",
     "output_type": "stream",
     "text": [
      "rn 1 = 0\n",
      "cm 1 - 0\n",
      "qp 3 = 1\n",
      "cm 2 = 0\n",
      "qp 2 - 1\n",
      "pc 4 = 3\n",
      "ot 9 = 3\n",
      "ab 5 = 3\n",
      "pc 5 - 3\n",
      "pc 6 = 3\n",
      "ot 7 = 3\n"
     ]
    },
    {
     "data": {
      "text/plain": [
       "75"
      ]
     },
     "execution_count": 62,
     "metadata": {},
     "output_type": "execute_result"
    }
   ],
   "source": [
    "\n",
    "import numpy as np\n",
    "\n",
    "class lens:\n",
    "    def __init__(self, label, focal):\n",
    "        self.label=label\n",
    "        self.focal=focal\n",
    "        self.deleted=0\n",
    "\n",
    "locations={}\n",
    "\n",
    "file1 = open('test_input', 'r')\n",
    "Lines = file1.readlines()\n",
    "suma=0\n",
    "for i in range(len(Lines)):\n",
    "    Lines[i]=Lines[i].strip()\n",
    "string_list=Lines[0].split(',')\n",
    "\n",
    "total=0\n",
    "boxes=[]\n",
    "for i in range(256):\n",
    "    boxes.append([])\n",
    "for s in string_list:\n",
    "    total+=hash_algo(s)\n",
    "    if (s.find('='))>=0:\n",
    "        idx=s.find('=')\n",
    "        focal=int(s[idx+1:])\n",
    "    else:\n",
    "        idx=len(s)-1\n",
    "    box=hash_algo(s[0:idx])\n",
    "    label=s[0:idx]\n",
    "    sign=s[idx]  \n",
    "    print(label,focal,sign,box)\n",
    "    if (sign==\"=\"): \n",
    "        flag=True\n",
    "        new=lens(label,focal)  \n",
    "        for member in boxes[box]:\n",
    "            if member.label==new.label:\n",
    "                if (member.deleted==0):\n",
    "                    member.focal=new.focal\n",
    "                    flag=False\n",
    "        if flag:\n",
    "            boxes[box].append(new)\n",
    "\n",
    "        locations[label]=box\n",
    "    if (sign==\"-\"):\n",
    "        if label in locations:\n",
    "            for member in boxes[box]:\n",
    "                if member.label==label:\n",
    "                    member.deleted=1\n",
    "    i=1\n",
    "    suma=0\n",
    "    for box in boxes:\n",
    "        if (len(box)>0):    \n",
    "            for member in box:\n",
    "                j=1\n",
    "                if member.deleted==0:\n",
    "                    suma+=i*j*member.focal\n",
    "                    print(j*i*member.focal)\n",
    "                    j+=1\n",
    "        i+=1\n",
    "suma"
   ]
  },
  {
   "cell_type": "code",
   "execution_count": 42,
   "metadata": {},
   "outputs": [],
   "source": [
    "def hash_algo(s):\n",
    "    current_value=0\n",
    "    for c in s:\n",
    "        current_value+=ord(c)\n",
    "        current_value*=17\n",
    "        current_value%=256\n",
    "    return current_value\n"
   ]
  },
  {
   "cell_type": "code",
   "execution_count": null,
   "metadata": {},
   "outputs": [],
   "source": []
  }
 ],
 "metadata": {
  "kernelspec": {
   "display_name": "test-pac-V6IWFQIH-py3.10",
   "language": "python",
   "name": "python3"
  },
  "language_info": {
   "codemirror_mode": {
    "name": "ipython",
    "version": 3
   },
   "file_extension": ".py",
   "mimetype": "text/x-python",
   "name": "python",
   "nbconvert_exporter": "python",
   "pygments_lexer": "ipython3",
   "version": "3.10.8"
  }
 },
 "nbformat": 4,
 "nbformat_minor": 2
}
