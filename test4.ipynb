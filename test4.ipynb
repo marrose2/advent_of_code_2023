{
 "cells": [
  {
   "cell_type": "code",
   "execution_count": 46,
   "metadata": {},
   "outputs": [
    {
     "data": {
      "text/plain": [
       "8549735.0"
      ]
     },
     "execution_count": 46,
     "metadata": {},
     "output_type": "execute_result"
    }
   ],
   "source": [
    "import re\n",
    "import numpy as np\n",
    "file1 = open('4_input', 'r')\n",
    "card_multiplier = np.ones(shape=(200))\n",
    "Lines = file1.readlines()\n",
    "sum=0\n",
    "for i in range(len(Lines)):\n",
    "    if card_multiplier[i]>0:\n",
    "        sum+=card_multiplier[i]\n",
    "        Lines[i]=Lines[i].strip()\n",
    "        split=Lines[i].split(sep=\": \")[1]\n",
    "        split=split.replace(\"  \",\" \")\n",
    "        split= split.split(sep=\"|\")\n",
    "        correct=split[0].strip().split(\" \")\n",
    "        mine=split[1].strip().split(\" \")\n",
    "        x=(bitmask(correct)*bitmask(mine)).sum()\n",
    "        for j in range(1,int(x)+1):\n",
    "            card_multiplier[i+j]+=card_multiplier[i]\n",
    "sum\n"
   ]
  },
  {
   "cell_type": "code",
   "execution_count": null,
   "metadata": {},
   "outputs": [],
   "source": []
  }
 ],
 "metadata": {
  "kernelspec": {
   "display_name": "Python 3",
   "language": "python",
   "name": "python3"
  },
  "language_info": {
   "codemirror_mode": {
    "name": "ipython",
    "version": 3
   },
   "file_extension": ".py",
   "mimetype": "text/x-python",
   "name": "python",
   "nbconvert_exporter": "python",
   "pygments_lexer": "ipython3",
   "version": "3.10.8"
  }
 },
 "nbformat": 4,
 "nbformat_minor": 2
}
