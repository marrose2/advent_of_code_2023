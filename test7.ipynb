{
 "cells": [
  {
   "cell_type": "code",
   "execution_count": 12,
   "metadata": {},
   "outputs": [],
   "source": [
    "def hand_power(s):\n",
    "    l_sorted = sorted(s)\n",
    "    prev=''\n",
    "    counts=[]\n",
    "    for c in l_sorted:\n",
    "        if (c==prev):\n",
    "            cnt+=1\n",
    "        else:\n",
    "            if (prev!=''): counts.append(cnt)\n",
    "            cnt=1\n",
    "        prev=c\n",
    "    counts.append(cnt)\n",
    "    counts.sort(reverse=True)\n",
    "    if (len(counts)==1): return counts[0]\n",
    "    if ((counts[0]==3) &(counts[1]==2)): return 3.5\n",
    "    if (counts[0]==2 & counts[1]==2): return 2.5\n",
    "    return counts[0]\n",
    "\n",
    "def card_power(c):\n",
    "    if (c.isnumeric()): return int(c)\n",
    "    if c=='T': return 10\n",
    "    if c=='J': return 11\n",
    "    if c=='Q': return 12\n",
    "    if c=='K': return 13\n",
    "    if c==\"A\": return 14"
   ]
  },
  {
   "cell_type": "code",
   "execution_count": 13,
   "metadata": {},
   "outputs": [
    {
     "data": {
      "text/plain": [
       "247823654"
      ]
     },
     "execution_count": 13,
     "metadata": {},
     "output_type": "execute_result"
    }
   ],
   "source": [
    "import re\n",
    "import numpy as np\n",
    "file1 = open('7_input', 'r')\n",
    "\n",
    "Lines = file1.readlines()\n",
    "list_of_hands=[]\n",
    "\n",
    "for i in range(len(Lines)):\n",
    "    Lines[i]=Lines[i].strip()\n",
    "    split= Lines[i].split(' ')\n",
    "    list_of_hands.append(split)\n",
    "    \n",
    "list_of_hands.sort(reverse=True,\n",
    "    key=(\n",
    "        lambda x: (\n",
    "                            hand_power(x[0]),\n",
    "                                card_power(x[0][0]),\n",
    "                                card_power(x[0][1]),\n",
    "                                card_power(x[0][2]),\n",
    "                                card_power(x[0][3]),\n",
    "                            card_power(x[0][4])\n",
    "                                )\n",
    "                    )\n",
    "        ) \n",
    "sum=0\n",
    "for i in range(len(list_of_hands)):\n",
    "    sum+=(len(list_of_hands)-i)*int(list_of_hands[i][1])\n",
    "sum"
   ]
  },
  {
   "cell_type": "code",
   "execution_count": 14,
   "metadata": {},
   "outputs": [],
   "source": [
    "def hand_power2(s):\n",
    "    l_sorted = sorted(s)\n",
    "    prev=''\n",
    "    counts=[]\n",
    "    j_count=0\n",
    "    for c in l_sorted:\n",
    "        if (c==prev):\n",
    "            cnt+=1\n",
    "        else:\n",
    "            if (prev=='J'):\n",
    "                j_count=cnt\n",
    "                cnt=1\n",
    "            else:\n",
    "                if (prev!=''): counts.append(cnt)\n",
    "                cnt=1\n",
    "        prev=c\n",
    "\n",
    " \n",
    "    if (prev=='J'):\n",
    "        j_count=cnt\n",
    "    else:\n",
    "        counts.append(cnt)\n",
    "        \n",
    "    if j_count==5: return 5\n",
    "    counts.sort(reverse=True)\n",
    "    counts[0]+=j_count\n",
    "    if (len(counts)==1): return counts[0]\n",
    "    if ((counts[0]==3) &(counts[1]==2)): return 3.5\n",
    "    if (counts[0]==2 & counts[1]==2): return 2.5\n",
    "    return counts[0]\n",
    "\n",
    "def card_power2(c):\n",
    "    if (c.isnumeric()): return int(c)\n",
    "    if c=='T': return 10\n",
    "    if c=='J': return 1\n",
    "    if c=='Q': return 12\n",
    "    if c=='K': return 13\n",
    "    if c==\"A\": return 14"
   ]
  },
  {
   "cell_type": "code",
   "execution_count": 15,
   "metadata": {},
   "outputs": [
    {
     "data": {
      "text/plain": [
       "245461700"
      ]
     },
     "execution_count": 15,
     "metadata": {},
     "output_type": "execute_result"
    }
   ],
   "source": [
    "import re\n",
    "import numpy as np\n",
    "file1 = open('7_input', 'r')\n",
    "\n",
    "Lines = file1.readlines()\n",
    "list_of_hands=[]\n",
    "\n",
    "for i in range(len(Lines)):\n",
    "    Lines[i]=Lines[i].strip()\n",
    "    split= Lines[i].split(' ')\n",
    "    list_of_hands.append(split)\n",
    "\n",
    "list_of_hands.sort(reverse=True,\n",
    "    key=(\n",
    "        lambda x: (\n",
    "                            hand_power2(x[0]),\n",
    "                                card_power2(x[0][0]),\n",
    "                                card_power2(x[0][1]),\n",
    "                                card_power2(x[0][2]),\n",
    "                                card_power2(x[0][3]),\n",
    "                            card_power2(x[0][4])\n",
    "                                )\n",
    "                    )\n",
    "        ) \n",
    "sum=0\n",
    "for i in range(len(list_of_hands)):\n",
    "    sum+=(len(list_of_hands)-i)*int(list_of_hands[i][1])\n",
    "\n",
    "for i in range(len(list_of_hands)):\n",
    "    list_of_hands[i].append(hand_power2(list_of_hands[i][0] ))\n",
    "sum"
   ]
  },
  {
   "cell_type": "code",
   "execution_count": null,
   "metadata": {},
   "outputs": [],
   "source": []
  }
 ],
 "metadata": {
  "kernelspec": {
   "display_name": "hypothesis-testing-Ccqgsuvy-py3.10",
   "language": "python",
   "name": "python3"
  },
  "language_info": {
   "codemirror_mode": {
    "name": "ipython",
    "version": 3
   },
   "file_extension": ".py",
   "mimetype": "text/x-python",
   "name": "python",
   "nbconvert_exporter": "python",
   "pygments_lexer": "ipython3",
   "version": "3.10.8"
  }
 },
 "nbformat": 4,
 "nbformat_minor": 2
}
