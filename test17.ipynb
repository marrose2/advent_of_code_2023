{
 "cells": [
  {
   "cell_type": "code",
   "execution_count": 6,
   "metadata": {},
   "outputs": [],
   "source": [
    "import aocd\n",
    "data=aocd.get_data(day=17)\n",
    "data=data.split(\"\\n\")\n"
   ]
  },
  {
   "cell_type": "code",
   "execution_count": 8,
   "metadata": {},
   "outputs": [
    {
     "data": {
      "text/plain": [
       "922"
      ]
     },
     "execution_count": 8,
     "metadata": {},
     "output_type": "execute_result"
    }
   ],
   "source": [
    "shortest_path_to={}\n",
    "queue=[]\n",
    "\n",
    "def check(loc,dir,length,path_len):\n",
    "    loc=loc[0]+dir[0]*length,loc[1]+dir[1]*length\n",
    "    if (loc[0]<0 or loc[1]<0 or loc[0]>=len(data) or loc[1]>=len(data[0])):\n",
    "        return\n",
    "    curr_len=path_len\n",
    "    for i in range(length):\n",
    "        curr_len+=+int(data[loc[0]-dir[0]*i][loc[1]-dir[1]*i])\n",
    "    direction=(abs(dir[0]),abs(dir[1]))\n",
    "    if ((loc,direction) not in shortest_path_to) or (shortest_path_to[(loc,direction)]>curr_len):\n",
    "        shortest_path_to[(loc,direction)]=curr_len\n",
    "        queue.append((loc,curr_len,dir))\n",
    "\n",
    "def step():\n",
    "    global mini,maxi\n",
    "    loc,path_len,curr_dir=queue.pop(0)\n",
    "    for j in(1,-1):\n",
    "        for i in range(mini,maxi+1):\n",
    "                check(loc,(curr_dir[1]*j,curr_dir[0]*j),i,path_len)\n",
    "        \n",
    "queue=[((0,0),0,(1,0)),((0,0),0,(0,1))]\n",
    "\n",
    "#FOR PART 1:\n",
    "#mini=1\n",
    "#maxi=3\n",
    "#FOR PART 2:\n",
    "mini=4\n",
    "maxi=10\n",
    "while(len(queue)>0):\n",
    "    step()\n",
    "min(shortest_path_to[(len(data)-1,len(data[0])-1),(0,1)],shortest_path_to[(len(data)-1,len(data[0])-1),(1,0)])   \n"
   ]
  },
  {
   "cell_type": "code",
   "execution_count": null,
   "metadata": {},
   "outputs": [],
   "source": []
  }
 ],
 "metadata": {
  "kernelspec": {
   "display_name": "advent-of-code-2023-S7DCybZP-py3.10",
   "language": "python",
   "name": "python3"
  },
  "language_info": {
   "codemirror_mode": {
    "name": "ipython",
    "version": 3
   },
   "file_extension": ".py",
   "mimetype": "text/x-python",
   "name": "python",
   "nbconvert_exporter": "python",
   "pygments_lexer": "ipython3",
   "version": "3.10.8"
  }
 },
 "nbformat": 4,
 "nbformat_minor": 2
}
