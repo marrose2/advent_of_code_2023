{
 "cells": [
  {
   "cell_type": "code",
   "execution_count": 20,
   "metadata": {},
   "outputs": [
    {
     "name": "stdout",
     "output_type": "stream",
     "text": [
      "9536038.0\n"
     ]
    }
   ],
   "source": [
    "\n",
    "import numpy as np\n",
    "\n",
    "#Part one:\n",
    "const=1\n",
    "#Part two:\n",
    "#const=1000000-1\n",
    "\n",
    "file1 = open('11_input', 'r')\n",
    "Lines = file1.readlines()\n",
    "for i in range(len(Lines)):\n",
    "    Lines[i]=Lines[i].strip()\n",
    "\n",
    "galaxies=[]\n",
    "rows=np.ones(shape=(len(Lines)))\n",
    "cols=np.ones(shape=(len(Lines[0])))\n",
    "\n",
    "for i in range (len (Lines)):\n",
    "   for j in range (len(Lines[0])):\n",
    "       if (Lines[i][j]=='#'):\n",
    "           galaxies.append((i,j))\n",
    "           rows[i]=0\n",
    "           cols[j]=0\n",
    "rows=np.cumsum(rows)\n",
    "cols=np.cumsum(cols)\n",
    "\n",
    "\n",
    "total=0\n",
    "for galaxy1 in galaxies:\n",
    "     for galaxy2 in galaxies:\n",
    "           total+=abs(galaxy1[0]-galaxy2[0])+abs(galaxy1[1]-galaxy2[1])\n",
    "           total+=(abs(rows[galaxy1[0]]-rows[galaxy2[0]])+abs(cols[galaxy1[1]]-cols[galaxy2[1]]))*const\n",
    "print(total/2)\n"
   ]
  },
  {
   "cell_type": "code",
   "execution_count": null,
   "metadata": {},
   "outputs": [],
   "source": []
  }
 ],
 "metadata": {
  "kernelspec": {
   "display_name": "test-pac-V6IWFQIH-py3.10",
   "language": "python",
   "name": "python3"
  },
  "language_info": {
   "codemirror_mode": {
    "name": "ipython",
    "version": 3
   },
   "file_extension": ".py",
   "mimetype": "text/x-python",
   "name": "python",
   "nbconvert_exporter": "python",
   "pygments_lexer": "ipython3",
   "version": "3.10.8"
  }
 },
 "nbformat": 4,
 "nbformat_minor": 2
}
