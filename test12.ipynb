{
 "cells": [
  {
   "cell_type": "code",
   "execution_count": 2,
   "metadata": {},
   "outputs": [
    {
     "data": {
      "text/plain": [
       "4500070301581.0"
      ]
     },
     "execution_count": 2,
     "metadata": {},
     "output_type": "execute_result"
    }
   ],
   "source": [
    "\n",
    "import numpy as np\n",
    "\n",
    "file1 = open('12_input', 'r')\n",
    "Lines = file1.readlines()\n",
    "suma=0\n",
    "for i in range(len(Lines)):\n",
    "    Lines[i]=Lines[i].strip()\n",
    "    string,sequence=Lines[i].split() \n",
    "    sequence=sequence.split(',')\n",
    "    for i in range(len(sequence)):\n",
    "        sequence[i]=int(sequence[i])\n",
    "\n",
    "    #STAR 2: PART OF CODE \n",
    "    new_sequence=sequence.copy()\n",
    "    new_string=string\n",
    "\n",
    "    for i in range(4):\n",
    "        new_sequence+=sequence\n",
    "        new_string+=\"?\"+string\n",
    "    sequence=new_sequence\n",
    "    string = new_string\n",
    "\n",
    "    #############################################\n",
    "    curr=0\n",
    "    posibilites=np.zeros(shape=(len(string),max(sequence)+1))\n",
    "    posibilites[0,0]=1\n",
    "\n",
    "    for i in string:\n",
    "        new=np.zeros(shape=(len(string),max(sequence)+1))\n",
    "        if i==\"#\" or i==\"?\":\n",
    "            for idx,p in np.ndenumerate(posibilites):\n",
    "                if (p>0):\n",
    "                    if (idx[0]<len(sequence)):\n",
    "                        if(idx[1]<sequence[idx[0]]):\n",
    "                            new[idx[0],idx[1]+1]+=p\n",
    "\n",
    "        if i==\".\" or i==\"?\":\n",
    "            for idx,p in np.ndenumerate(posibilites):\n",
    "                if (p>0):\n",
    "                    if(idx[1]==0):\n",
    "                        new[idx[0],0]+=p\n",
    "                    else:\n",
    "                        if(idx[1]==sequence[idx[0]]):\n",
    "                            new[idx[0]+1,0]+=p\n",
    "        posibilites=new.copy()\n",
    "    posibilites[len(sequence),0]+=posibilites[len(sequence)-1,sequence[-1]]\n",
    "    suma+=posibilites[ len(sequence),0]\n",
    "suma"
   ]
  },
  {
   "cell_type": "code",
   "execution_count": null,
   "metadata": {},
   "outputs": [],
   "source": []
  }
 ],
 "metadata": {
  "kernelspec": {
   "display_name": "test-pac-V6IWFQIH-py3.10",
   "language": "python",
   "name": "python3"
  },
  "language_info": {
   "codemirror_mode": {
    "name": "ipython",
    "version": 3
   },
   "file_extension": ".py",
   "mimetype": "text/x-python",
   "name": "python",
   "nbconvert_exporter": "python",
   "pygments_lexer": "ipython3",
   "version": "3.10.8"
  }
 },
 "nbformat": 4,
 "nbformat_minor": 2
}
