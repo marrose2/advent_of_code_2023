{
 "cells": [
  {
   "cell_type": "code",
   "execution_count": 23,
   "metadata": {},
   "outputs": [],
   "source": [
    "import aocd\n",
    "data=aocd.get_data()\n",
    "data=data.split(\"\\n\")"
   ]
  },
  {
   "cell_type": "code",
   "execution_count": 28,
   "metadata": {},
   "outputs": [],
   "source": [
    "def parse1(datum):\n",
    "    name,conditionals=datum.split(\"{\")\n",
    "    conditionals=conditionals[0:-1]\n",
    "    conditionals=conditionals.split(\",\")\n",
    "    l=[]\n",
    "    for j in range(len(conditionals)-1):\n",
    "        condition,target=conditionals[j].split(\":\")\n",
    "        variable,operator,value=condition[0],condition[1],int(condition[2:])\n",
    "        x=(variable,operator,value,target)\n",
    "        l.append(x)\n",
    "    condition_map[name]=(l,conditionals[-1])  \n",
    "def parse2(datum):\n",
    "    values=datum[1:-1].split(\",\")\n",
    "    d={}\n",
    "    for value in values:\n",
    "        d[value[0]]=int(value[2:])\n",
    "    points.append(d)\n"
   ]
  },
  {
   "cell_type": "code",
   "execution_count": 29,
   "metadata": {},
   "outputs": [],
   "source": [
    "p1=True\n",
    "condition_map={}\n",
    "points=[]\n",
    "for datum in data:\n",
    "    if datum==\"\":\n",
    "        p1=False\n",
    "        continue\n",
    "    if p1:\n",
    "        parse1(datum)\n",
    "    else:\n",
    "        parse2(datum)"
   ]
  },
  {
   "cell_type": "code",
   "execution_count": 40,
   "metadata": {},
   "outputs": [
    {
     "data": {
      "text/plain": [
       "395382"
      ]
     },
     "execution_count": 40,
     "metadata": {},
     "output_type": "execute_result"
    }
   ],
   "source": [
    "\n",
    "#PART 1\n",
    "\n",
    "accepted=0\n",
    "queue=[]\n",
    "for point in points:\n",
    "  queue.append((point,\"in\"))\n",
    "\n",
    "while(queue):\n",
    "    point,workflow=queue.pop(0)\n",
    "    if (workflow==\"A\") or (workflow==\"R\"):\n",
    "        if (workflow==\"A\"):\n",
    "            accepted+=point[\"x\"]+point[\"m\"]+point[\"a\"]+point[\"s\"]\n",
    "        continue\n",
    "    curr,next=condition_map[workflow]\n",
    "    flag=True\n",
    "    for tuple in curr:\n",
    "        if(tuple[1]=='<'):\n",
    "            condition=point[tuple[0]]<tuple[2]\n",
    "        else:\n",
    "            condition=point[tuple[0]]>tuple[2]\n",
    "        if (condition):\n",
    "            queue.append((point,tuple[3]))\n",
    "            flag=False\n",
    "            break\n",
    "    if flag:\n",
    "        queue.append((point,next))\n",
    "accepted\n",
    "                    \n"
   ]
  },
  {
   "cell_type": "code",
   "execution_count": 41,
   "metadata": {},
   "outputs": [
    {
     "data": {
      "text/plain": [
       "103557657654583"
      ]
     },
     "execution_count": 41,
     "metadata": {},
     "output_type": "execute_result"
    }
   ],
   "source": [
    "#PART 2\n",
    "\n",
    "point={'x':(1,4000),'m':(1,4000),'a':(1,4000),'s':(1,4000)}\n",
    "workflow=\"in\"\n",
    "queue=[]\n",
    "queue.append((point,workflow))\n",
    "accepted=0\n",
    "\n",
    "while(queue):\n",
    "    point,workflow=queue.pop(0)\n",
    "    if workflow==\"A\" or workflow==\"R\":\n",
    "        if workflow==\"A\":\n",
    "            total=1\n",
    "            for key in point:\n",
    "                total*=(point[key][1]-point[key][0]+1)\n",
    "            accepted+=total\n",
    "        continue\n",
    "    conditions,next=condition_map[workflow]\n",
    "    for tuple in conditions:\n",
    "        \n",
    "        interval1=(point[tuple[0]][0],tuple[2]-1*(tuple[1]=='<'))\n",
    "        interval2=(tuple[2]+1*(tuple[1]=='>'),point[tuple[0]][1])\n",
    "        \n",
    "        if (interval1[0]>=interval1[1]) or (interval2[0]>=interval2[1]): continue\n",
    "\n",
    "        new_point=point.copy()   \n",
    "        if(tuple[1]=='<'):\n",
    "            new_point[tuple[0]]=interval1\n",
    "            point[tuple[0]]=interval2 \n",
    "        else:\n",
    "            new_point[tuple[0]]=interval2\n",
    "            point[tuple[0]]=interval1  \n",
    "        queue.append((new_point,tuple[3]))\n",
    "    queue.append((point,next))\n",
    "accepted"
   ]
  }
 ],
 "metadata": {
  "kernelspec": {
   "display_name": "advent-of-code-2023-S7DCybZP-py3.10",
   "language": "python",
   "name": "python3"
  },
  "language_info": {
   "codemirror_mode": {
    "name": "ipython",
    "version": 3
   },
   "file_extension": ".py",
   "mimetype": "text/x-python",
   "name": "python",
   "nbconvert_exporter": "python",
   "pygments_lexer": "ipython3",
   "version": "3.10.8"
  }
 },
 "nbformat": 4,
 "nbformat_minor": 2
}
