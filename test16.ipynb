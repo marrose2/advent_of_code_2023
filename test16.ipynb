{
 "cells": [
  {
   "cell_type": "code",
   "execution_count": 5,
   "metadata": {},
   "outputs": [
    {
     "name": "stdout",
     "output_type": "stream",
     "text": [
      "7927\n",
      "8246\n"
     ]
    }
   ],
   "source": [
    "\n",
    "import numpy as np\n",
    "\n",
    "file1 = open('16_input', 'r')\n",
    "Lines = file1.readlines()\n",
    "for i in range(len(Lines)):\n",
    "    Lines[i]=Lines[i].strip()\n",
    "counts=[]\n",
    "for k in range(4):\n",
    "    for l in range(((k+1)%2)*len(Lines)+((k)%2)*(len(Lines[0]))):\n",
    "\n",
    "        if k==0:\n",
    "            start=((l,0),\"R\")\n",
    "        elif k==1:\n",
    "            start=((0,l),\"D\")\n",
    "        elif k==2:\n",
    "            start=((l,len(Lines[0])-1),\"L\")\n",
    "        else:\n",
    "            start=((len(Lines)-1,l),\"U\")\n",
    "        visited={}\n",
    "        steps=[start]\n",
    "        test=[]\n",
    "        for i in range(len(Lines)):\n",
    "            x=[]\n",
    "            for j in range(len(Lines[i])):\n",
    "                x.append(\".\")\n",
    "            test.append(x.copy())\n",
    "\n",
    "        while not (len(steps)==0):\n",
    "            #print(loc[0],loc[1])\n",
    "            loc,dir=steps.pop(0)\n",
    "            test[loc[0]][loc[1]]='#'\n",
    "            #print(loc)\n",
    "            if(Lines[loc[0]][loc[1]]!=\".\"):\n",
    "                move_list=move_dict[(Lines[loc[0]][loc[1]],dir)]\n",
    "            else:\n",
    "                move_list=[dir]\n",
    "            for move in move_list:  \n",
    "                add_move(loc,move)\n",
    "        #for t in test:\n",
    "            #print(t)\n",
    "        count=0\n",
    "        for i in range(len(Lines)):\n",
    "            for j in range(len(Lines[i])):\n",
    "                if (test[i][j]=='#'):\n",
    "                    count+=1\n",
    "        counts.append(count)\n",
    "print(counts[0])\n",
    "print(max(counts))"
   ]
  },
  {
   "cell_type": "code",
   "execution_count": 3,
   "metadata": {},
   "outputs": [],
   "source": [
    "def add_move(loc,dir):\n",
    "    if(dir==\"U\"):\n",
    "        loc=(loc[0]-1,loc[1])\n",
    "    if(dir==\"D\"):\n",
    "        loc=(loc[0]+1,loc[1])\n",
    "    if(dir==\"L\"):\n",
    "        loc=(loc[0],loc[1]-1)\n",
    "    if(dir==\"R\"):\n",
    "        loc=(loc[0],loc[1]+1)\n",
    "    if loc[0]<0 or loc[1]<0 or loc[0]==len(Lines) or loc[1]==len(Lines[0]):\n",
    "        return\n",
    "    if (loc,dir) in visited:\n",
    "        return\n",
    "    visited[(loc,dir)]=True\n",
    "    steps.append((loc,dir))"
   ]
  },
  {
   "cell_type": "code",
   "execution_count": 4,
   "metadata": {},
   "outputs": [],
   "source": [
    "move_dict={}\n",
    "move_dict[(\"/\",\"R\")]=[\"U\"]\n",
    "move_dict[(\"/\",\"L\")]=[\"D\"]\n",
    "move_dict[(\"/\",\"U\")]=[\"R\"]\n",
    "move_dict[(\"/\",\"D\")]=[\"L\"]\n",
    "\n",
    "move_dict[(\"\\\\\",\"R\")]=[\"D\"]\n",
    "move_dict[(\"\\\\\",\"L\")]=[\"U\"]\n",
    "move_dict[(\"\\\\\",\"U\")]=[\"L\"]\n",
    "move_dict[(\"\\\\\",\"D\")]=[\"R\"]\n",
    "\n",
    "move_dict[(\"|\",\"U\")]=[\"U\"]\n",
    "move_dict[(\"|\",\"D\")]=[\"D\"]\n",
    "move_dict[(\"|\",\"R\")]=[\"U\",\"D\"]\n",
    "move_dict[(\"|\",\"L\")]=[\"U\",\"D\"]\n",
    "\n",
    "move_dict[(\"-\",\"R\")]=[\"R\"]\n",
    "move_dict[(\"-\",\"L\")]=[\"L\"]\n",
    "move_dict[(\"-\",\"U\")]=[\"R\",\"L\"]\n",
    "move_dict[(\"-\",\"D\")]=[\"R\",\"L\"]\n",
    "\n"
   ]
  },
  {
   "cell_type": "markdown",
   "metadata": {},
   "source": [
    "|"
   ]
  }
 ],
 "metadata": {
  "kernelspec": {
   "display_name": "test-pac-V6IWFQIH-py3.10",
   "language": "python",
   "name": "python3"
  },
  "language_info": {
   "codemirror_mode": {
    "name": "ipython",
    "version": 3
   },
   "file_extension": ".py",
   "mimetype": "text/x-python",
   "name": "python",
   "nbconvert_exporter": "python",
   "pygments_lexer": "ipython3",
   "version": "3.10.8"
  }
 },
 "nbformat": 4,
 "nbformat_minor": 2
}
