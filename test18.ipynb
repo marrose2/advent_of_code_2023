{
 "cells": [
  {
   "cell_type": "code",
   "execution_count": 157,
   "metadata": {},
   "outputs": [],
   "source": [
    "import aocd\n",
    "data=aocd.get_data()\n",
    "data=data.split(\"\\n\")"
   ]
  },
  {
   "cell_type": "code",
   "execution_count": 149,
   "metadata": {},
   "outputs": [],
   "source": [
    "file1 = open('test_input', 'r')\n",
    "data = file1.readlines(day=18)\n",
    "for i in range(len(data)):\n",
    "    data[i]=data[i].strip()"
   ]
  },
  {
   "cell_type": "code",
   "execution_count": 158,
   "metadata": {},
   "outputs": [
    {
     "name": "stdout",
     "output_type": "stream",
     "text": [
      "66296566363189\n"
     ]
    }
   ],
   "source": [
    "x,y=0,0\n",
    "vertical_lines=[]\n",
    "surface=0\n",
    "direction_map={\"0\":\"R\",\"1\":\"D\",\"2\":\"L\",\"3\":\"U\"}\n",
    "for datum in data:\n",
    "    direction,length,color=datum.split(\" \")\n",
    "    ##FOR PART TWO:\n",
    "    direction=color[-2]\n",
    "    length=int(color[2:-2],16)\n",
    "    direction=direction_map[direction]\n",
    "    surface+=int(length)\n",
    "    if direction==\"U\":\n",
    "        new=(y+int(length),y,x)\n",
    "        y+=int(length)\n",
    "    if direction==\"D\":\n",
    "        new=(y,y-int(length),x)\n",
    "        y-=int(length)  \n",
    "    if direction==\"R\":\n",
    "        x+=int(length)\n",
    "    if direction==\"L\":\n",
    "        x-=int(length)\n",
    "    if direction in [\"U\",\"D\"]:\n",
    "        vertical_lines.append(new)  \n",
    "vertical_lines=sorted(vertical_lines,key=lambda x: x[2])\n",
    "inner_surface=0\n",
    "outer_surface=0\n",
    "count=-1\n",
    "\n",
    "while(len(vertical_lines)>0):\n",
    "    line1=vertical_lines[0]\n",
    "    vertical_lines.remove(line1)\n",
    "    for line2 in vertical_lines:\n",
    "        if line1[0]>line2[1] and line1[1]<line2[0]:\n",
    "            \n",
    "            left=max(line1[0],line2[0])\n",
    "            left2=min(line1[0],line2[0])\n",
    "            right2=max(line1[1],line2[1])\n",
    "            right=min(line1[1],line2[1])\n",
    "            \n",
    "            if (left2!=right2): \n",
    "                inner_surface+=(left2-right2-1)*(line2[2]-line1[2]-1)\n",
    "                outer_surface+=((left2-right2)+(line2[2]-line1[2]))*2\n",
    "                count+=1 \n",
    "\n",
    "            if (left==line1[0]):\n",
    "                x=line1[2]\n",
    "            else:\n",
    "                x=line2[2]\n",
    "\n",
    "            if left!=left2: \n",
    "                vertical_lines.append((left,left2,x))\n",
    "    \n",
    "            if (right==line1[1]):\n",
    "                x=line1[2]\n",
    "            else:\n",
    "                x=line2[2]\n",
    "            if right2!=right: \n",
    "                vertical_lines.append((right2,right,x))\n",
    "\n",
    "            vertical_lines.remove(line2)\n",
    "            vertical_lines=sorted(vertical_lines,key=lambda x: x[2])\n",
    "            break\n",
    "print(inner_surface+surface+(outer_surface-surface)//2-count)\n"
   ]
  },
  {
   "cell_type": "code",
   "execution_count": null,
   "metadata": {},
   "outputs": [],
   "source": []
  }
 ],
 "metadata": {
  "kernelspec": {
   "display_name": "advent-of-code-2023-S7DCybZP-py3.10",
   "language": "python",
   "name": "python3"
  },
  "language_info": {
   "codemirror_mode": {
    "name": "ipython",
    "version": 3
   },
   "file_extension": ".py",
   "mimetype": "text/x-python",
   "name": "python",
   "nbconvert_exporter": "python",
   "pygments_lexer": "ipython3",
   "version": "3.10.8"
  }
 },
 "nbformat": 4,
 "nbformat_minor": 2
}
