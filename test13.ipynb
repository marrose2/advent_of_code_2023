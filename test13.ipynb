{
 "cells": [
  {
   "cell_type": "code",
   "execution_count": 59,
   "metadata": {},
   "outputs": [
    {
     "data": {
      "text/plain": [
       "39037"
      ]
     },
     "execution_count": 59,
     "metadata": {},
     "output_type": "execute_result"
    }
   ],
   "source": [
    "\n",
    "import numpy as np\n",
    "\n",
    "file1 = open('13_input', 'r')\n",
    "Lines = file1.readlines()\n",
    "suma=0\n",
    "for i in range(len(Lines)):\n",
    "    Lines[i]=Lines[i].strip()\n",
    "map=[]\n",
    "suma=0\n",
    "Lines.append(\"\")\n",
    "for i in Lines:\n",
    "    if (i!=\"\"):\n",
    "        map.append(i)\n",
    "    else:\n",
    "        suma+=100*row_mirrors(map)\n",
    "        suma+=(row_mirrors([''.join(s) for s in zip(*map)]))\n",
    "        map=[]\n",
    "suma"
   ]
  },
  {
   "cell_type": "markdown",
   "metadata": {},
   "source": []
  },
  {
   "cell_type": "code",
   "execution_count": 56,
   "metadata": {},
   "outputs": [],
   "source": [
    "def row_mirrors(l):\n",
    "    for i in range(len(l)-1):\n",
    "        flag=2\n",
    "        for k in range (len(l[i])):\n",
    "            if (flag>0):\n",
    "                for j in range(min(i+1,len(l)-i-1)):\n",
    "                    if (l[i-j][k]!=l[i+j+1][k]):\n",
    "                        flag-=1\n",
    "        if (flag==1):\n",
    "            return i+1\n",
    "    return 0"
   ]
  },
  {
   "cell_type": "code",
   "execution_count": null,
   "metadata": {},
   "outputs": [],
   "source": []
  }
 ],
 "metadata": {
  "kernelspec": {
   "display_name": "test-pac-V6IWFQIH-py3.10",
   "language": "python",
   "name": "python3"
  },
  "language_info": {
   "codemirror_mode": {
    "name": "ipython",
    "version": 3
   },
   "file_extension": ".py",
   "mimetype": "text/x-python",
   "name": "python",
   "nbconvert_exporter": "python",
   "pygments_lexer": "ipython3",
   "version": "3.10.8"
  }
 },
 "nbformat": 4,
 "nbformat_minor": 2
}
